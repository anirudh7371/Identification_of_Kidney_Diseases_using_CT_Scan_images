{
 "cells": [
  {
   "cell_type": "code",
   "execution_count": 1,
   "metadata": {},
   "outputs": [
    {
     "name": "stderr",
     "output_type": "stream",
     "text": [
      "/Users/anirudhsharma/Desktop/Project/Identification_of_kidney_stones_empowered_with_XAI/.venv/lib/python3.9/site-packages/tqdm/auto.py:21: TqdmWarning: IProgress not found. Please update jupyter and ipywidgets. See https://ipywidgets.readthedocs.io/en/stable/user_install.html\n",
      "  from .autonotebook import tqdm as notebook_tqdm\n"
     ]
    }
   ],
   "source": [
    "import yaml\n",
    "import os\n",
    "from dataclasses import dataclass\n",
    "from pathlib import Path\n",
    "import torchio as tio"
   ]
  },
  {
   "cell_type": "code",
   "execution_count": 2,
   "metadata": {},
   "outputs": [],
   "source": [
    "os.chdir(\"../\")"
   ]
  },
  {
   "cell_type": "code",
   "execution_count": 3,
   "metadata": {},
   "outputs": [
    {
     "data": {
      "text/plain": [
       "'/Users/anirudhsharma/Desktop/Project/Identification_of_kidney_stones_empowered_with_XAI'"
      ]
     },
     "execution_count": 3,
     "metadata": {},
     "output_type": "execute_result"
    }
   ],
   "source": [
    "%pwd"
   ]
  },
  {
   "cell_type": "code",
   "execution_count": 4,
   "metadata": {},
   "outputs": [],
   "source": [
    "@dataclass(frozen=True)\n",
    "class PreprocessingConfig:\n",
    "    root_dir: Path\n",
    "    processed_data_path: Path\n",
    "    params_clahe_clip: float\n",
    "    params_denoise_strength: float\n",
    "    params_intensity_rescale: bool"
   ]
  },
  {
   "cell_type": "code",
   "execution_count": 10,
   "metadata": {},
   "outputs": [],
   "source": [
    "from KidneyStoneClassification.constants import *\n",
    "from KidneyStoneClassification import logger\n",
    "from KidneyStoneClassification.utils.common import read_yaml, create_directories"
   ]
  },
  {
   "cell_type": "code",
   "execution_count": 11,
   "metadata": {},
   "outputs": [],
   "source": [
    "class ConfigurationManager:\n",
    "    def __init__(\n",
    "        self,\n",
    "        config_filepath=CONFIG_FILE_PATH,\n",
    "        params_filepath=PARAMS_FILE_PATH):\n",
    "\n",
    "        self.config = read_yaml(config_filepath)\n",
    "        self.params = read_yaml(params_filepath)\n",
    "\n",
    "        create_directories([self.config.artifacts_root])\n",
    "\n",
    "    def get_preprocessing_config(self) -> PreprocessingConfig:\n",
    "        config = self.config.preprocessing\n",
    "        \n",
    "        create_directories([config.root_dir])\n",
    "\n",
    "        preprocessing_config = PreprocessingConfig(\n",
    "            root_dir=Path(config.root_dir),\n",
    "            processed_data_path=Path(config.processed_data_path),\n",
    "            params_clahe_clip=self.params.CLAHE_CLIP,\n",
    "            params_denoise_strength=self.params.DENOISE_STRENGTH,\n",
    "            params_intensity_rescale=self.params.INTENSITY_RESCALE\n",
    "        )\n",
    "\n",
    "        return preprocessing_config"
   ]
  },
  {
   "cell_type": "code",
   "execution_count": 13,
   "metadata": {},
   "outputs": [],
   "source": [
    "import cv2\n",
    "import numpy as np\n",
    "from tqdm import tqdm"
   ]
  },
  {
   "cell_type": "code",
   "execution_count": 14,
   "metadata": {},
   "outputs": [],
   "source": [
    "class Preprocessing:\n",
    "    def __init__(self, config: PreprocessingConfig):\n",
    "        self.config = config\n",
    "\n",
    "    def apply_clahe(self, image):\n",
    "        clahe = cv2.createCLAHE(clipLimit=self.config.params_clahe_clip, tileGridSize=(8,8))\n",
    "        return clahe.apply(image)\n",
    "\n",
    "    def denoise(self, image):\n",
    "        return cv2.fastNlMeansDenoising(image, None, self.config.params_denoise_strength, 7, 21)\n",
    "\n",
    "    def intensity_rescale(self, image):\n",
    "        return cv2.normalize(image, None, alpha=0, beta=255, norm_type=cv2.NORM_MINMAX)\n",
    "    \n",
    "    def process_image(self, image_path):\n",
    "        if not os.path.exists(image_path):\n",
    "            raise FileNotFoundError(f\"Error: Input image not found at {image_path}\")\n",
    "\n",
    "        image = cv2.imread(image_path, cv2.IMREAD_GRAYSCALE)\n",
    "        if image is None:\n",
    "            raise ValueError(f\"Error: Failed to load image. Ensure {image_path} is a valid grayscale image.\")\n",
    "\n",
    "        image = self.apply_clahe(image)\n",
    "        image = self.denoise(image)\n",
    "        if self.config.params_intensity_rescale:\n",
    "            image = self.intensity_rescale(image)\n",
    "        return image\n",
    "    \n",
    "    def save_processed_image(self, image, output_path: str):\n",
    "        output_dir = os.path.dirname(output_path)\n",
    "        if not os.path.exists(output_dir):\n",
    "            os.makedirs(output_dir, exist_ok=True)\n",
    "            \n",
    "        cv2.imwrite(output_path, image)\n",
    "        if not os.path.exists(output_path):\n",
    "            logger.error(f\"Error: Image was not saved to {output_path}\")\n",
    "            \n",
    "    def process_directory(self, input_dir, output_dir):\n",
    "        \"\"\"\n",
    "        Process all images in a directory structure, maintaining the same organization\n",
    "        \n",
    "        Args:\n",
    "            input_dir: Root directory containing class folders\n",
    "            output_dir: Output directory where processed images will be saved\n",
    "        \"\"\"\n",
    "        logger.info(f\"Starting to process images from {input_dir}\")\n",
    "        os.makedirs(output_dir, exist_ok=True)\n",
    "        \n",
    "        # Find all class folders\n",
    "        class_folders = [d for d in os.listdir(input_dir) \n",
    "                         if os.path.isdir(os.path.join(input_dir, d))]\n",
    "        \n",
    "        total_processed = 0\n",
    "        total_errors = 0\n",
    "        \n",
    "        for class_name in class_folders:\n",
    "            logger.info(f\"Processing class: {class_name}\")\n",
    "            class_path = os.path.join(input_dir, class_name)\n",
    "            output_class_path = os.path.join(output_dir, class_name)\n",
    "            os.makedirs(output_class_path, exist_ok=True)\n",
    "            \n",
    "            image_files = [f for f in os.listdir(class_path) \n",
    "                          if f.lower().endswith(('.jpg', '.jpeg', '.png'))]\n",
    "            \n",
    "            for img_file in tqdm(image_files, desc=f\"Processing {class_name}\"):\n",
    "                try:\n",
    "                    input_path = os.path.join(class_path, img_file)\n",
    "                    output_path = os.path.join(output_class_path, img_file)\n",
    "                    \n",
    "                    # Process and save the image\n",
    "                    processed_img = self.process_image(input_path)\n",
    "                    self.save_processed_image(processed_img, output_path)\n",
    "                    total_processed += 1\n",
    "                    \n",
    "                except Exception as e:\n",
    "                    logger.error(f\"Error processing {img_file}: {str(e)}\")\n",
    "                    total_errors += 1\n",
    "        \n",
    "        logger.info(f\"Processing complete! Processed {total_processed} images with {total_errors} errors\")\n",
    "        return total_processed, total_errors"
   ]
  },
  {
   "cell_type": "code",
   "execution_count": 16,
   "metadata": {},
   "outputs": [
    {
     "name": "stdout",
     "output_type": "stream",
     "text": [
      "[2025-03-09 22:06:35,327: INFO: common: yaml file: config/config.yaml loaded successfully]\n",
      "[2025-03-09 22:06:35,333: INFO: common: yaml file: params.yaml loaded successfully]\n",
      "[2025-03-09 22:06:35,336: INFO: common: created directory at: artifacts]\n",
      "[2025-03-09 22:06:35,336: INFO: common: created directory at: artifacts/preprocessing]\n",
      "[2025-03-09 22:06:35,337: INFO: 2866771524: Starting to process images from artifacts/data_ingestion/CT-KIDNEY-DATASET-Normal-Cyst-Tumor-Stone]\n",
      "[2025-03-09 22:06:35,338: INFO: 2866771524: Processing class: Tumor]\n"
     ]
    },
    {
     "name": "stderr",
     "output_type": "stream",
     "text": [
      "Processing Tumor: 100%|██████████| 2283/2283 [02:49<00:00, 13.44it/s]"
     ]
    },
    {
     "name": "stdout",
     "output_type": "stream",
     "text": [
      "[2025-03-09 22:09:25,309: INFO: 2866771524: Processing class: Cyst]\n"
     ]
    },
    {
     "name": "stderr",
     "output_type": "stream",
     "text": [
      "\n",
      "Processing Cyst: 100%|██████████| 3709/3709 [04:48<00:00, 12.87it/s]"
     ]
    },
    {
     "name": "stdout",
     "output_type": "stream",
     "text": [
      "[2025-03-09 22:14:13,451: INFO: 2866771524: Processing class: Stone]\n"
     ]
    },
    {
     "name": "stderr",
     "output_type": "stream",
     "text": [
      "\n",
      "Processing Stone: 100%|██████████| 1377/1377 [01:58<00:00, 11.57it/s]"
     ]
    },
    {
     "name": "stdout",
     "output_type": "stream",
     "text": [
      "[2025-03-09 22:16:12,422: INFO: 2866771524: Processing class: Normal]\n"
     ]
    },
    {
     "name": "stderr",
     "output_type": "stream",
     "text": [
      "\n",
      "Processing Normal: 100%|██████████| 5077/5077 [09:37<00:00,  8.79it/s]   "
     ]
    },
    {
     "name": "stdout",
     "output_type": "stream",
     "text": [
      "[2025-03-09 22:25:50,123: INFO: 2866771524: Processing complete! Processed 12446 images with 0 errors]\n",
      "[2025-03-09 22:25:50,124: INFO: 4028401034: Processing sample image: artifacts/data_ingestion/CT-KIDNEY-DATASET-Normal-Cyst-Tumor-Stone/Stone/Stone- (1).jpg]\n"
     ]
    },
    {
     "name": "stderr",
     "output_type": "stream",
     "text": [
      "\n"
     ]
    },
    {
     "name": "stdout",
     "output_type": "stream",
     "text": [
      "[2025-03-09 22:25:50,199: INFO: 4028401034: Image processed and saved to artifacts/data_preprocessing/processed_dataset/sample_processed.jpg]\n"
     ]
    }
   ],
   "source": [
    "try:\n",
    "    from KidneyStoneClassification.constants import CONFIG_FILE_PATH, PARAMS_FILE_PATH\n",
    "    from KidneyStoneClassification.utils.common import read_yaml, create_directories\n",
    "    \n",
    "    class ConfigurationManager:\n",
    "        def __init__(\n",
    "            self,\n",
    "            config_filepath=CONFIG_FILE_PATH,\n",
    "            params_filepath=PARAMS_FILE_PATH):\n",
    "            \n",
    "            self.config = read_yaml(config_filepath)\n",
    "            self.params = read_yaml(params_filepath)\n",
    "            create_directories([self.config.artifacts_root])\n",
    "            \n",
    "        def get_preprocessing_config(self) -> PreprocessingConfig:\n",
    "            config = self.config.preprocessing\n",
    "            create_directories([config.root_dir])\n",
    "            \n",
    "            preprocessing_config = PreprocessingConfig(\n",
    "                root_dir=Path(config.root_dir),\n",
    "                processed_data_path=Path(config.processed_data_path),\n",
    "                params_clahe_clip=self.params.CLAHE_CLIP,\n",
    "                params_denoise_strength=self.params.DENOISE_STRENGTH,\n",
    "                params_intensity_rescale=self.params.INTENSITY_RESCALE\n",
    "            )\n",
    "            \n",
    "            return preprocessing_config\n",
    "            \n",
    "    # Get configuration\n",
    "    config = ConfigurationManager()\n",
    "    preprocessing_config = config.get_preprocessing_config()\n",
    "    \n",
    "    # Initialize preprocessing\n",
    "    preprocessing = Preprocessing(config=preprocessing_config)\n",
    "    \n",
    "    # Define input and output directories\n",
    "    input_dir = \"artifacts/data_ingestion/CT-KIDNEY-DATASET-Normal-Cyst-Tumor-Stone\"\n",
    "    output_dir = \"artifacts/data_preprocessing/processed_dataset\"\n",
    "    \n",
    "    # Process the entire dataset\n",
    "    preprocessing.process_directory(input_dir, output_dir)\n",
    "    \n",
    "    # Optionally, process a single image as an example\n",
    "    sample_image = os.path.join(input_dir, \"Stone\", \"Stone- (1).jpg\")\n",
    "    sample_output = os.path.join(output_dir, \"sample_processed.jpg\")\n",
    "    \n",
    "    if os.path.exists(sample_image):\n",
    "        logger.info(f\"Processing sample image: {sample_image}\")\n",
    "        processed_sample = preprocessing.process_image(sample_image)\n",
    "        preprocessing.save_processed_image(processed_sample, sample_output)\n",
    "        logger.info(f\"Image processed and saved to {sample_output}\")\n",
    "    \n",
    "except Exception as e:\n",
    "    logger.error(f\"Exception occurred: {str(e)}\")"
   ]
  },
  {
   "cell_type": "code",
   "execution_count": null,
   "metadata": {},
   "outputs": [],
   "source": []
  }
 ],
 "metadata": {
  "kernelspec": {
   "display_name": "Python 3",
   "language": "python",
   "name": "python3"
  },
  "language_info": {
   "codemirror_mode": {
    "name": "ipython",
    "version": 3
   },
   "file_extension": ".py",
   "mimetype": "text/x-python",
   "name": "python",
   "nbconvert_exporter": "python",
   "pygments_lexer": "ipython3",
   "version": "3.9.6"
  }
 },
 "nbformat": 4,
 "nbformat_minor": 2
}
